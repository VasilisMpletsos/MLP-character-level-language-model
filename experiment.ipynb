{
 "cells": [
  {
   "cell_type": "code",
   "execution_count": 1,
   "id": "3311eaeb",
   "metadata": {},
   "outputs": [],
   "source": [
    "import torch\n",
    "from mlp import make_dataset, CharacterLevelMLP\n",
    "import matplotlib.pyplot as plt\n",
    "from torch.optim import Adam\n",
    "from pathlib import Path\n",
    "from torch.nn.functional import cross_entropy\n",
    "%matplotlib inline"
   ]
  },
  {
   "cell_type": "code",
   "execution_count": 2,
   "id": "3c7592ee",
   "metadata": {},
   "outputs": [],
   "source": [
    "names_file = Path(\"./names.txt\")\n",
    "X , Y = make_dataset(names_file)"
   ]
  },
  {
   "cell_type": "code",
   "execution_count": 3,
   "id": "3f8b2ad6",
   "metadata": {},
   "outputs": [
    {
     "name": "stdout",
     "output_type": "stream",
     "text": [
      "torch.Size([228146, 3])\n"
     ]
    }
   ],
   "source": [
    "print(X.shape)"
   ]
  },
  {
   "cell_type": "code",
   "execution_count": 4,
   "id": "13f3f534",
   "metadata": {},
   "outputs": [
    {
     "name": "stdout",
     "output_type": "stream",
     "text": [
      "Model parameters:\n",
      "C: torch.Size([27, 2])\n",
      "W1: torch.Size([6, 100])\n",
      "b1: torch.Size([100])\n",
      "W2: torch.Size([100, 27])\n",
      "b2: torch.Size([27])\n"
     ]
    }
   ],
   "source": [
    "EPOCHS = 10\n",
    "GRAD_STEP = 0.1\n",
    "\n",
    "\n",
    "# ================================\n",
    "\n",
    "# C = torch.randn((27, 2))\n",
    "# W1 = torch.randn((6, 100))\n",
    "# b1 = torch.randn(100)\n",
    "# W2 = torch.randn((100, 27))\n",
    "# b2 = torch.randn(27)\n",
    "\n",
    "# parameters = [C,W1,b1,W2,b2]\n",
    "\n",
    "# for p in parameters:\n",
    "#     p.requires_grad = True\n",
    "    \n",
    "# ================================\n",
    "    \n",
    "mlp_network = CharacterLevelMLP()\n",
    "\n",
    "# Check if model has parameters\n",
    "print(\"Model parameters:\")\n",
    "for name, param in mlp_network.named_parameters():\n",
    "    print(f\"{name}: {param.shape}\")\n",
    "\n",
    "adam = Adam(mlp_network.parameters(), lr=GRAD_STEP)\n",
    "mlp_network.train()\n",
    "\n",
    "# ================================\n",
    "\n",
    "losses = []\n",
    "\n",
    "\n",
    "for epoch in range(EPOCHS):\n",
    "    # embeddings = C[X]\n",
    "    # hidden_dim = embeddings.view((embeddings.shape[0], 6)) @ W1 + b1\n",
    "    # logits = hidden_dim @ W2 + b2\n",
    "    logits = mlp_network(X)\n",
    "    loss = cross_entropy(logits, Y)\n",
    "    losses.append(loss.item())\n",
    "        \n",
    "    # for p in parameters:\n",
    "    #     p.grad = None\n",
    "    # Clear gradients from previous iteration\n",
    "    adam.zero_grad()\n",
    "        \n",
    "    loss.backward()\n",
    "    \n",
    "    # for p in parameters:\n",
    "    #     p.data += -GRAD_STEP * p.grad\n",
    "    # Update parameters\n",
    "    adam.step()\n",
    "    \n",
    "    "
   ]
  },
  {
   "cell_type": "code",
   "execution_count": 5,
   "id": "50e15cd7",
   "metadata": {},
   "outputs": [
    {
     "data": {
      "text/plain": [
       "[42.45361328125,\n",
       " 23.07086181640625,\n",
       " 16.27788734436035,\n",
       " 11.91812515258789,\n",
       " 10.330805778503418,\n",
       " 10.45801067352295,\n",
       " 11.431381225585938,\n",
       " 11.014293670654297,\n",
       " 9.66076946258545,\n",
       " 8.822908401489258]"
      ]
     },
     "execution_count": 5,
     "metadata": {},
     "output_type": "execute_result"
    }
   ],
   "source": [
    "losses"
   ]
  },
  {
   "cell_type": "code",
   "execution_count": null,
   "id": "05e80500",
   "metadata": {},
   "outputs": [],
   "source": []
  }
 ],
 "metadata": {
  "kernelspec": {
   "display_name": "awesome",
   "language": "python",
   "name": "python3"
  },
  "language_info": {
   "codemirror_mode": {
    "name": "ipython",
    "version": 3
   },
   "file_extension": ".py",
   "mimetype": "text/x-python",
   "name": "python",
   "nbconvert_exporter": "python",
   "pygments_lexer": "ipython3",
   "version": "3.10.11"
  }
 },
 "nbformat": 4,
 "nbformat_minor": 5
}
